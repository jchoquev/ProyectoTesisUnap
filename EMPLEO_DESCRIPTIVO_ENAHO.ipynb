{
  "nbformat": 4,
  "nbformat_minor": 0,
  "metadata": {
    "colab": {
      "name": "EMPLEO-DESCRIPTIVO-ENAHO.ipynb",
      "provenance": [],
      "authorship_tag": "ABX9TyMpNgpkJFLc1seGl2zLRahZ",
      "include_colab_link": true
    },
    "kernelspec": {
      "name": "python3",
      "display_name": "Python 3"
    },
    "language_info": {
      "name": "python"
    }
  },
  "cells": [
    {
      "cell_type": "markdown",
      "metadata": {
        "id": "view-in-github",
        "colab_type": "text"
      },
      "source": [
        "<a href=\"https://colab.research.google.com/github/jchoquev/ProyectoTesisUnap/blob/colab/EMPLEO_DESCRIPTIVO_ENAHO.ipynb\" target=\"_parent\"><img src=\"https://colab.research.google.com/assets/colab-badge.svg\" alt=\"Open In Colab\"/></a>"
      ]
    },
    {
      "cell_type": "code",
      "metadata": {
        "id": "PPrINzK8L_kk"
      },
      "source": [
        "import pandas as pd\n",
        "from zipfile import ZipFile\n",
        "from io import BytesIO\n",
        "from urllib.request import urlopen\n",
        "import numpy as np\n",
        "\n",
        "\n",
        "import matplotlib.mlab as mlab \n",
        "import matplotlib.pyplot as plt"
      ],
      "execution_count": 49,
      "outputs": []
    },
    {
      "cell_type": "code",
      "metadata": {
        "id": "eRuVi1nZMQJO"
      },
      "source": [
        "url=urlopen('http://iinei.inei.gob.pe/iinei/srienaho/descarga/STATA/737-Modulo05.zip')\n",
        "zipfile=ZipFile(BytesIO(url.read()))"
      ],
      "execution_count": 2,
      "outputs": []
    },
    {
      "cell_type": "code",
      "metadata": {
        "id": "oaeoHOGjMZhr"
      },
      "source": [
        "df=pd.read_stata(zipfile.open('737-Modulo05/enaho01a-2020-500.dta'),'ISO-8859-1',preserve_dtypes=True,convert_categoricals=False)"
      ],
      "execution_count": 99,
      "outputs": []
    },
    {
      "cell_type": "code",
      "metadata": {
        "id": "WLtrGVv_MgKT"
      },
      "source": [
        "df=df[df.p500i!='00']"
      ],
      "execution_count": 100,
      "outputs": []
    },
    {
      "cell_type": "code",
      "metadata": {
        "id": "wiBZERcGNaGh"
      },
      "source": [
        "#Variable Sexo\n",
        "df[\"sexo\"]=df[\"p207\"]\n",
        "df[\"sexo\"]=df[\"sexo\"].replace({1:\"Hombre\",2:\"Mujer\" })"
      ],
      "execution_count": 101,
      "outputs": []
    },
    {
      "cell_type": "code",
      "metadata": {
        "id": "d0dB0oEQnXUG"
      },
      "source": [
        "df['SitInformalidad']=df['ocupinf']\n",
        "df[\"SitInformalidad\"]=df[\"SitInformalidad\"].replace({1:\"Empleo Informal\",2:\"Empleo formal\" })"
      ],
      "execution_count": 122,
      "outputs": []
    },
    {
      "cell_type": "markdown",
      "metadata": {
        "id": "vLKjFCqCf7sr"
      },
      "source": [
        "Estado Civil - Mujer"
      ]
    },
    {
      "cell_type": "code",
      "metadata": {
        "id": "n80RYiVjanc8"
      },
      "source": [
        "df_EstaCivil=df\n",
        "df_EstaCivil['EstCivil']=df['p209']\n",
        "df_EstaCivil=df_EstaCivil[df_EstaCivil['p209']!=np.nan]\n",
        "df_EstaCivil[\"EstCivil\"]=df_EstaCivil[\"EstCivil\"].replace({1:\"Conviviente\",2:\"Casado(a)\",3:\"Viudo(a)\",4:\"Divorciado(a)\",5:\"Separado(a)\",6:\"Soltero(a)\"})"
      ],
      "execution_count": 123,
      "outputs": []
    },
    {
      "cell_type": "code",
      "metadata": {
        "id": "xA8pxVmeNtl_"
      },
      "source": [
        "muestra=pd.crosstab(df_EstaCivil.EstCivil,columns=[df_EstaCivil.sexo[df_EstaCivil.sexo=='Mujer']],values=df_EstaCivil.fac500a,aggfunc=sum,normalize=True,colnames=[''])\n",
        "muestra['labels']=[\"Casado(a)\",\"Conviviente\",\"Divorciado(a)\",\"Separado(a)\",\"Soltero(a)\",\"Viudo(a)\"]\n",
        "muestra"
      ],
      "execution_count": null,
      "outputs": []
    },
    {
      "cell_type": "code",
      "metadata": {
        "colab": {
          "base_uri": "https://localhost:8080/",
          "height": 250
        },
        "id": "7J4TPQGkZxte",
        "outputId": "0650ac9b-5260-43f6-a7d0-1f97e8acef47"
      },
      "source": [
        "plt.pie(muestra.Mujer,labels=muestra.labels, autopct=\"%0.2f %%\")\n",
        "plt.axis(\"equal\")\n",
        "plt.show()"
      ],
      "execution_count": 125,
      "outputs": [
        {
          "output_type": "display_data",
          "data": {
            "image/png": "[encoded data removed]",
            "text/plain": [
              "<Figure size 432x288 with 1 Axes>"
            ]
          },
          "metadata": {
            "tags": []
          }
        }
      ]
    },
    {
      "cell_type": "markdown",
      "metadata": {
        "id": "8xeugVi6gCXK"
      },
      "source": [
        "Nivel de instrucción"
      ]
    },
    {
      "cell_type": "code",
      "metadata": {
        "id": "p0ryXl7qgMPx"
      },
      "source": [
        "df_NivIntruc=df\n",
        "df_NivIntruc['NivIntruc']=df['p301a']\n",
        "df_NivIntruc=df_NivIntruc[df_NivIntruc['NivIntruc']!=np.nan]\n",
        "df_NivIntruc[\"NivIntruc\"]=df_NivIntruc[\"NivIntruc\"].replace({1 :\"Sin nivel\",2 :\"Inicial\",3 :\"Primaria incompleta\",4 :\"Primaria completa\",5 :\"Secundaria incompleta\",6 :\"Secundaria completa\",7 :\"Sup. no Universitaria Incompleta\",8 :\"Sup. no Universitaria Completa\",9 :\"Sup. Universitaria Incompleta\",10 :\"Sup. Universitaria Completa\",11 :\"Maestría/Doctorado\",12:\"Básica especial\"})"
      ],
      "execution_count": 135,
      "outputs": []
    },
    {
      "cell_type": "code",
      "metadata": {
        "id": "LHg722ymiM8q"
      },
      "source": [
        "muestra=pd.crosstab(df_NivIntruc.NivIntruc,columns=[df_NivIntruc.sexo[df_NivIntruc.sexo=='Mujer']],values=df_NivIntruc.fac500a,aggfunc=sum,normalize=True,colnames=[''])\n",
        "muestra['labels']=[\"Básica especial\",\"Inicial\",\"Maestría/Doctorado\",\"Primaria completa\",\"Primaria incompleta\",\"Secundaria completa\",\n",
        "                   \"Secundaria incompleta\",\"Sin nivel\",\"Sup. Universitaria Completa\",\"Sup. Universitaria Incompleta\",\"Sup. no Universitaria Completa\",\n",
        "                   \"Sup. no Universitaria Incompleta\"]\n",
        "muestra"
      ],
      "execution_count": null,
      "outputs": []
    },
    {
      "cell_type": "code",
      "metadata": {
        "colab": {
          "base_uri": "https://localhost:8080/",
          "height": 253
        },
        "id": "QoiiVQB_jVuC",
        "outputId": "36227789-100c-4808-8a42-89de6ad4527c"
      },
      "source": [
        "plt.pie(muestra.Mujer,labels=muestra.labels, autopct=\"%0.2f %%\")\n",
        "plt.axis(\"equal\")\n",
        "plt.show()"
      ],
      "execution_count": 137,
      "outputs": [
        {
          "output_type": "display_data",
          "data": {
            "image/png": "[encoded data removed]",
            "text/plain": [
              "<Figure size 432x288 with 1 Axes>"
            ]
          },
          "metadata": {
            "tags": []
          }
        }
      ]
    },
    {
      "cell_type": "markdown",
      "metadata": {
        "id": "U_WVYFaEkIvw"
      },
      "source": [
        "**Análisis descriptivo bivariado - Mujeres**"
      ]
    },
    {
      "cell_type": "markdown",
      "metadata": {
        "id": "4I1GuZDGp-tY"
      },
      "source": [
        "Condición del empleo vs estado civil"
      ]
    },
    {
      "cell_type": "code",
      "metadata": {
        "colab": {
          "base_uri": "https://localhost:8080/",
          "height": 266
        },
        "id": "POL0AIACkHrK",
        "outputId": "e3b205da-52e3-4439-ec8d-96c5b227c050"
      },
      "source": [
        "muestra=pd.crosstab(df_EstaCivil.EstCivil,columns=[df_EstaCivil.SitInformalidad[df_EstaCivil.sexo=='Mujer']],values=df_EstaCivil.fac500a,aggfunc=sum,normalize='index',colnames=[''])\n",
        "muestra"
      ],
      "execution_count": 132,
      "outputs": [
        {
          "output_type": "execute_result",
          "data": {
            "text/html": [
              "<div>\n",
              "<style scoped>\n",
              "    .dataframe tbody tr th:only-of-type {\n",
              "        vertical-align: middle;\n",
              "    }\n",
              "\n",
              "    .dataframe tbody tr th {\n",
              "        vertical-align: top;\n",
              "    }\n",
              "\n",
              "    .dataframe thead th {\n",
              "        text-align: right;\n",
              "    }\n",
              "</style>\n",
              "<table border=\"1\" class=\"dataframe\">\n",
              "  <thead>\n",
              "    <tr style=\"text-align: right;\">\n",
              "      <th></th>\n",
              "      <th>Empleo Informal</th>\n",
              "      <th>Empleo formal</th>\n",
              "    </tr>\n",
              "    <tr>\n",
              "      <th>EstCivil</th>\n",
              "      <th></th>\n",
              "      <th></th>\n",
              "    </tr>\n",
              "  </thead>\n",
              "  <tbody>\n",
              "    <tr>\n",
              "      <th>Casado(a)</th>\n",
              "      <td>0.742150</td>\n",
              "      <td>0.257850</td>\n",
              "    </tr>\n",
              "    <tr>\n",
              "      <th>Conviviente</th>\n",
              "      <td>0.841010</td>\n",
              "      <td>0.158990</td>\n",
              "    </tr>\n",
              "    <tr>\n",
              "      <th>Divorciado(a)</th>\n",
              "      <td>0.499971</td>\n",
              "      <td>0.500029</td>\n",
              "    </tr>\n",
              "    <tr>\n",
              "      <th>Separado(a)</th>\n",
              "      <td>0.769205</td>\n",
              "      <td>0.230795</td>\n",
              "    </tr>\n",
              "    <tr>\n",
              "      <th>Soltero(a)</th>\n",
              "      <td>0.727346</td>\n",
              "      <td>0.272654</td>\n",
              "    </tr>\n",
              "    <tr>\n",
              "      <th>Viudo(a)</th>\n",
              "      <td>0.863581</td>\n",
              "      <td>0.136419</td>\n",
              "    </tr>\n",
              "  </tbody>\n",
              "</table>\n",
              "</div>"
            ],
            "text/plain": [
              "               Empleo Informal  Empleo formal\n",
              "EstCivil                                     \n",
              "Casado(a)             0.742150       0.257850\n",
              "Conviviente           0.841010       0.158990\n",
              "Divorciado(a)         0.499971       0.500029\n",
              "Separado(a)           0.769205       0.230795\n",
              "Soltero(a)            0.727346       0.272654\n",
              "Viudo(a)              0.863581       0.136419"
            ]
          },
          "metadata": {
            "tags": []
          },
          "execution_count": 132
        }
      ]
    },
    {
      "cell_type": "code",
      "metadata": {
        "colab": {
          "base_uri": "https://localhost:8080/",
          "height": 282
        },
        "id": "ih8sKJ7njxEa",
        "outputId": "88aed5d5-dee1-4bc5-ac60-c250c0b7c2eb"
      },
      "source": [
        "muestra.plot(kind = 'barh',stacked = 'True',width = 0.9)"
      ],
      "execution_count": 134,
      "outputs": [
        {
          "output_type": "execute_result",
          "data": {
            "text/plain": [
              "<matplotlib.axes._subplots.AxesSubplot at 0x7f4babccca10>"
            ]
          },
          "metadata": {
            "tags": []
          },
          "execution_count": 134
        },
        {
          "output_type": "display_data",
          "data": {
            "image/png": "[encoded data removed]",
            "text/plain": [
              "<Figure size 432x288 with 1 Axes>"
            ]
          },
          "metadata": {
            "tags": [],
            "needs_background": "light"
          }
        }
      ]
    },
    {
      "cell_type": "markdown",
      "metadata": {
        "id": "FaMDnuNjqJSY"
      },
      "source": [
        "Condición del empleo vs nivel de instrucción"
      ]
    },
    {
      "cell_type": "code",
      "metadata": {
        "colab": {
          "base_uri": "https://localhost:8080/",
          "height": 452
        },
        "id": "PIgpAjHvp3W5",
        "outputId": "c4336a4e-d398-4297-d13d-af8ef1c27a72"
      },
      "source": [
        "muestra=pd.crosstab(df_NivIntruc.NivIntruc,columns=[df_NivIntruc.SitInformalidad[df_NivIntruc.sexo=='Mujer']],values=df_NivIntruc.fac500a,aggfunc=sum,normalize='index',colnames=[''])\n",
        "muestra"
      ],
      "execution_count": 138,
      "outputs": [
        {
          "output_type": "execute_result",
          "data": {
            "text/html": [
              "<div>\n",
              "<style scoped>\n",
              "    .dataframe tbody tr th:only-of-type {\n",
              "        vertical-align: middle;\n",
              "    }\n",
              "\n",
              "    .dataframe tbody tr th {\n",
              "        vertical-align: top;\n",
              "    }\n",
              "\n",
              "    .dataframe thead th {\n",
              "        text-align: right;\n",
              "    }\n",
              "</style>\n",
              "<table border=\"1\" class=\"dataframe\">\n",
              "  <thead>\n",
              "    <tr style=\"text-align: right;\">\n",
              "      <th></th>\n",
              "      <th>Empleo Informal</th>\n",
              "      <th>Empleo formal</th>\n",
              "    </tr>\n",
              "    <tr>\n",
              "      <th>NivIntruc</th>\n",
              "      <th></th>\n",
              "      <th></th>\n",
              "    </tr>\n",
              "  </thead>\n",
              "  <tbody>\n",
              "    <tr>\n",
              "      <th>Básica especial</th>\n",
              "      <td>1.000000</td>\n",
              "      <td>0.000000</td>\n",
              "    </tr>\n",
              "    <tr>\n",
              "      <th>Inicial</th>\n",
              "      <td>1.000000</td>\n",
              "      <td>0.000000</td>\n",
              "    </tr>\n",
              "    <tr>\n",
              "      <th>Maestría/Doctorado</th>\n",
              "      <td>0.095849</td>\n",
              "      <td>0.904151</td>\n",
              "    </tr>\n",
              "    <tr>\n",
              "      <th>Primaria completa</th>\n",
              "      <td>0.937707</td>\n",
              "      <td>0.062293</td>\n",
              "    </tr>\n",
              "    <tr>\n",
              "      <th>Primaria incompleta</th>\n",
              "      <td>0.957979</td>\n",
              "      <td>0.042021</td>\n",
              "    </tr>\n",
              "    <tr>\n",
              "      <th>Secundaria completa</th>\n",
              "      <td>0.833521</td>\n",
              "      <td>0.166479</td>\n",
              "    </tr>\n",
              "    <tr>\n",
              "      <th>Secundaria incompleta</th>\n",
              "      <td>0.927533</td>\n",
              "      <td>0.072467</td>\n",
              "    </tr>\n",
              "    <tr>\n",
              "      <th>Sin nivel</th>\n",
              "      <td>0.984374</td>\n",
              "      <td>0.015626</td>\n",
              "    </tr>\n",
              "    <tr>\n",
              "      <th>Sup. Universitaria Completa</th>\n",
              "      <td>0.341795</td>\n",
              "      <td>0.658205</td>\n",
              "    </tr>\n",
              "    <tr>\n",
              "      <th>Sup. Universitaria Incompleta</th>\n",
              "      <td>0.705676</td>\n",
              "      <td>0.294324</td>\n",
              "    </tr>\n",
              "    <tr>\n",
              "      <th>Sup. no Universitaria Completa</th>\n",
              "      <td>0.504608</td>\n",
              "      <td>0.495392</td>\n",
              "    </tr>\n",
              "    <tr>\n",
              "      <th>Sup. no Universitaria Incompleta</th>\n",
              "      <td>0.762694</td>\n",
              "      <td>0.237306</td>\n",
              "    </tr>\n",
              "  </tbody>\n",
              "</table>\n",
              "</div>"
            ],
            "text/plain": [
              "                                  Empleo Informal  Empleo formal\n",
              "NivIntruc                                                       \n",
              "Básica especial                          1.000000       0.000000\n",
              "Inicial                                  1.000000       0.000000\n",
              "Maestría/Doctorado                       0.095849       0.904151\n",
              "Primaria completa                        0.937707       0.062293\n",
              "Primaria incompleta                      0.957979       0.042021\n",
              "Secundaria completa                      0.833521       0.166479\n",
              "Secundaria incompleta                    0.927533       0.072467\n",
              "Sin nivel                                0.984374       0.015626\n",
              "Sup. Universitaria Completa              0.341795       0.658205\n",
              "Sup. Universitaria Incompleta            0.705676       0.294324\n",
              "Sup. no Universitaria Completa           0.504608       0.495392\n",
              "Sup. no Universitaria Incompleta         0.762694       0.237306"
            ]
          },
          "metadata": {
            "tags": []
          },
          "execution_count": 138
        }
      ]
    },
    {
      "cell_type": "code",
      "metadata": {
        "colab": {
          "base_uri": "https://localhost:8080/",
          "height": 282
        },
        "id": "nUdPaj_-q1Xv",
        "outputId": "bcf26c4e-11b8-41f0-d59f-d4aed253ee9f"
      },
      "source": [
        "muestra.plot(kind = 'barh',stacked = 'True',width = 0.8)"
      ],
      "execution_count": 140,
      "outputs": [
        {
          "output_type": "execute_result",
          "data": {
            "text/plain": [
              "<matplotlib.axes._subplots.AxesSubplot at 0x7f4bac18c490>"
            ]
          },
          "metadata": {
            "tags": []
          },
          "execution_count": 140
        },
        {
          "output_type": "display_data",
          "data": {
            "image/png": "[encoded data removed]",
            "text/plain": [
              "<Figure size 432x288 with 1 Axes>"
            ]
          },
          "metadata": {
            "tags": [],
            "needs_background": "light"
          }
        }
      ]
    },
    {
      "cell_type": "markdown",
      "metadata": {
        "id": "y-0rcGZH5JEs"
      },
      "source": [
        "Condición del empleo vs edad"
      ]
    },
    {
      "cell_type": "code",
      "metadata": {
        "id": "5kMd3j9jrbiC"
      },
      "source": [
        "df_edad=df\n",
        "df_edad['edad']=df_edad['p208a']\n",
        "df_edad=df_edad[df_edad.edad!=np.nan]\n",
        "df_edad=df_edad[df_edad.edad!=99]\n",
        "bins=[13,24,34,44,64,np.inf]\n",
        "df_edad['cedad'] = pd.cut(x=df_edad['edad'], bins=bins)"
      ],
      "execution_count": 175,
      "outputs": []
    },
    {
      "cell_type": "code",
      "metadata": {
        "colab": {
          "base_uri": "https://localhost:8080/",
          "height": 235
        },
        "id": "ZahecRgQzfYF",
        "outputId": "41504024-a9e2-4126-d6c5-9b9fba9fd4e1"
      },
      "source": [
        "muestra=pd.crosstab(df_edad.cedad,columns=[df_edad.SitInformalidad[df_edad.sexo=='Mujer']],values=df_edad.fac500a,aggfunc=sum,normalize='index',colnames=[''])\n",
        "muestra"
      ],
      "execution_count": 176,
      "outputs": [
        {
          "output_type": "execute_result",
          "data": {
            "text/html": [
              "<div>\n",
              "<style scoped>\n",
              "    .dataframe tbody tr th:only-of-type {\n",
              "        vertical-align: middle;\n",
              "    }\n",
              "\n",
              "    .dataframe tbody tr th {\n",
              "        vertical-align: top;\n",
              "    }\n",
              "\n",
              "    .dataframe thead th {\n",
              "        text-align: right;\n",
              "    }\n",
              "</style>\n",
              "<table border=\"1\" class=\"dataframe\">\n",
              "  <thead>\n",
              "    <tr style=\"text-align: right;\">\n",
              "      <th></th>\n",
              "      <th>Empleo Informal</th>\n",
              "      <th>Empleo formal</th>\n",
              "    </tr>\n",
              "    <tr>\n",
              "      <th>cedad</th>\n",
              "      <th></th>\n",
              "      <th></th>\n",
              "    </tr>\n",
              "  </thead>\n",
              "  <tbody>\n",
              "    <tr>\n",
              "      <th>(13.0, 24.0]</th>\n",
              "      <td>0.894968</td>\n",
              "      <td>0.105032</td>\n",
              "    </tr>\n",
              "    <tr>\n",
              "      <th>(24.0, 34.0]</th>\n",
              "      <td>0.734125</td>\n",
              "      <td>0.265875</td>\n",
              "    </tr>\n",
              "    <tr>\n",
              "      <th>(34.0, 44.0]</th>\n",
              "      <td>0.741809</td>\n",
              "      <td>0.258191</td>\n",
              "    </tr>\n",
              "    <tr>\n",
              "      <th>(44.0, 64.0]</th>\n",
              "      <td>0.733793</td>\n",
              "      <td>0.266207</td>\n",
              "    </tr>\n",
              "    <tr>\n",
              "      <th>(64.0, inf]</th>\n",
              "      <td>0.887574</td>\n",
              "      <td>0.112426</td>\n",
              "    </tr>\n",
              "  </tbody>\n",
              "</table>\n",
              "</div>"
            ],
            "text/plain": [
              "              Empleo Informal  Empleo formal\n",
              "cedad                                       \n",
              "(13.0, 24.0]         0.894968       0.105032\n",
              "(24.0, 34.0]         0.734125       0.265875\n",
              "(34.0, 44.0]         0.741809       0.258191\n",
              "(44.0, 64.0]         0.733793       0.266207\n",
              "(64.0, inf]          0.887574       0.112426"
            ]
          },
          "metadata": {
            "tags": []
          },
          "execution_count": 176
        }
      ]
    },
    {
      "cell_type": "code",
      "metadata": {
        "colab": {
          "base_uri": "https://localhost:8080/",
          "height": 282
        },
        "id": "Wl76ocMax0Gy",
        "outputId": "f88ce970-8366-4454-bdf8-72614c94c2c7"
      },
      "source": [
        "muestra.plot(kind = 'barh',stacked = 'True',width = 0.8)"
      ],
      "execution_count": 188,
      "outputs": [
        {
          "output_type": "execute_result",
          "data": {
            "text/plain": [
              "<matplotlib.axes._subplots.AxesSubplot at 0x7f4c389e6690>"
            ]
          },
          "metadata": {
            "tags": []
          },
          "execution_count": 188
        },
        {
          "output_type": "display_data",
          "data": {
            "image/png": "[encoded data removed]",
            "text/plain": [
              "<Figure size 432x288 with 1 Axes>"
            ]
          },
          "metadata": {
            "tags": [],
            "needs_background": "light"
          }
        }
      ]
    },
    {
      "cell_type": "markdown",
      "metadata": {
        "id": "61oVoT2R5eDT"
      },
      "source": [
        "**Análisis descriptivo comparativo - hombres y mujeres**"
      ]
    },
    {
      "cell_type": "markdown",
      "metadata": {
        "id": "yJRSr34T6LAg"
      },
      "source": [
        "Nivel de instrucción"
      ]
    },
    {
      "cell_type": "code",
      "metadata": {
        "colab": {
          "base_uri": "https://localhost:8080/",
          "height": 452
        },
        "id": "u2lb7FBV5EWt",
        "outputId": "3d86320f-b96b-4bdb-dff6-3492202baeef"
      },
      "source": [
        "muestra=pd.crosstab(df_NivIntruc.NivIntruc,columns=[df_NivIntruc.sexo],values=df_NivIntruc.fac500a,aggfunc=sum,normalize='index',colnames=[''])\n",
        "muestra"
      ],
      "execution_count": 189,
      "outputs": [
        {
          "output_type": "execute_result",
          "data": {
            "text/html": [
              "<div>\n",
              "<style scoped>\n",
              "    .dataframe tbody tr th:only-of-type {\n",
              "        vertical-align: middle;\n",
              "    }\n",
              "\n",
              "    .dataframe tbody tr th {\n",
              "        vertical-align: top;\n",
              "    }\n",
              "\n",
              "    .dataframe thead th {\n",
              "        text-align: right;\n",
              "    }\n",
              "</style>\n",
              "<table border=\"1\" class=\"dataframe\">\n",
              "  <thead>\n",
              "    <tr style=\"text-align: right;\">\n",
              "      <th></th>\n",
              "      <th>Hombre</th>\n",
              "      <th>Mujer</th>\n",
              "    </tr>\n",
              "    <tr>\n",
              "      <th>NivIntruc</th>\n",
              "      <th></th>\n",
              "      <th></th>\n",
              "    </tr>\n",
              "  </thead>\n",
              "  <tbody>\n",
              "    <tr>\n",
              "      <th>Básica especial</th>\n",
              "      <td>0.659250</td>\n",
              "      <td>0.340750</td>\n",
              "    </tr>\n",
              "    <tr>\n",
              "      <th>Inicial</th>\n",
              "      <td>0.486909</td>\n",
              "      <td>0.513091</td>\n",
              "    </tr>\n",
              "    <tr>\n",
              "      <th>Maestría/Doctorado</th>\n",
              "      <td>0.540541</td>\n",
              "      <td>0.459459</td>\n",
              "    </tr>\n",
              "    <tr>\n",
              "      <th>Primaria completa</th>\n",
              "      <td>0.479056</td>\n",
              "      <td>0.520944</td>\n",
              "    </tr>\n",
              "    <tr>\n",
              "      <th>Primaria incompleta</th>\n",
              "      <td>0.408999</td>\n",
              "      <td>0.591001</td>\n",
              "    </tr>\n",
              "    <tr>\n",
              "      <th>Secundaria completa</th>\n",
              "      <td>0.553367</td>\n",
              "      <td>0.446633</td>\n",
              "    </tr>\n",
              "    <tr>\n",
              "      <th>Secundaria incompleta</th>\n",
              "      <td>0.514121</td>\n",
              "      <td>0.485879</td>\n",
              "    </tr>\n",
              "    <tr>\n",
              "      <th>Sin nivel</th>\n",
              "      <td>0.198386</td>\n",
              "      <td>0.801614</td>\n",
              "    </tr>\n",
              "    <tr>\n",
              "      <th>Sup. Universitaria Completa</th>\n",
              "      <td>0.490355</td>\n",
              "      <td>0.509645</td>\n",
              "    </tr>\n",
              "    <tr>\n",
              "      <th>Sup. Universitaria Incompleta</th>\n",
              "      <td>0.522997</td>\n",
              "      <td>0.477003</td>\n",
              "    </tr>\n",
              "    <tr>\n",
              "      <th>Sup. no Universitaria Completa</th>\n",
              "      <td>0.483147</td>\n",
              "      <td>0.516853</td>\n",
              "    </tr>\n",
              "    <tr>\n",
              "      <th>Sup. no Universitaria Incompleta</th>\n",
              "      <td>0.504556</td>\n",
              "      <td>0.495443</td>\n",
              "    </tr>\n",
              "  </tbody>\n",
              "</table>\n",
              "</div>"
            ],
            "text/plain": [
              "                                    Hombre     Mujer\n",
              "NivIntruc                                           \n",
              "Básica especial                   0.659250  0.340750\n",
              "Inicial                           0.486909  0.513091\n",
              "Maestría/Doctorado                0.540541  0.459459\n",
              "Primaria completa                 0.479056  0.520944\n",
              "Primaria incompleta               0.408999  0.591001\n",
              "Secundaria completa               0.553367  0.446633\n",
              "Secundaria incompleta             0.514121  0.485879\n",
              "Sin nivel                         0.198386  0.801614\n",
              "Sup. Universitaria Completa       0.490355  0.509645\n",
              "Sup. Universitaria Incompleta     0.522997  0.477003\n",
              "Sup. no Universitaria Completa    0.483147  0.516853\n",
              "Sup. no Universitaria Incompleta  0.504556  0.495443"
            ]
          },
          "metadata": {
            "tags": []
          },
          "execution_count": 189
        }
      ]
    },
    {
      "cell_type": "code",
      "metadata": {
        "colab": {
          "base_uri": "https://localhost:8080/",
          "height": 282
        },
        "id": "Q1k9Qh565-XU",
        "outputId": "48f7df2f-d2d0-4600-d556-1776a8a5705a"
      },
      "source": [
        "muestra.plot(kind = 'barh',stacked = 'True',width = 0.8)"
      ],
      "execution_count": 190,
      "outputs": [
        {
          "output_type": "execute_result",
          "data": {
            "text/plain": [
              "<matplotlib.axes._subplots.AxesSubplot at 0x7f4c3898fe90>"
            ]
          },
          "metadata": {
            "tags": []
          },
          "execution_count": 190
        },
        {
          "output_type": "display_data",
          "data": {
            "image/png": "[encoded data removed]",
            "text/plain": [
              "<Figure size 432x288 with 1 Axes>"
            ]
          },
          "metadata": {
            "tags": [],
            "needs_background": "light"
          }
        }
      ]
    },
    {
      "cell_type": "code",
      "metadata": {
        "colab": {
          "base_uri": "https://localhost:8080/",
          "height": 196
        },
        "id": "a7bCMjzl6xug",
        "outputId": "8ce0c4df-e0ad-4349-8b0c-0f5a94a9f0b0"
      },
      "source": [
        "muestra=pd.crosstab(df_NivIntruc.sexo,columns=[df_NivIntruc.NivIntruc],values=df_NivIntruc.fac500a,aggfunc=sum,normalize='index',colnames=[''])\n",
        "muestra"
      ],
      "execution_count": 213,
      "outputs": [
        {
          "output_type": "execute_result",
          "data": {
            "text/html": [
              "<div>\n",
              "<style scoped>\n",
              "    .dataframe tbody tr th:only-of-type {\n",
              "        vertical-align: middle;\n",
              "    }\n",
              "\n",
              "    .dataframe tbody tr th {\n",
              "        vertical-align: top;\n",
              "    }\n",
              "\n",
              "    .dataframe thead th {\n",
              "        text-align: right;\n",
              "    }\n",
              "</style>\n",
              "<table border=\"1\" class=\"dataframe\">\n",
              "  <thead>\n",
              "    <tr style=\"text-align: right;\">\n",
              "      <th></th>\n",
              "      <th>Básica especial</th>\n",
              "      <th>Inicial</th>\n",
              "      <th>Maestría/Doctorado</th>\n",
              "      <th>Primaria completa</th>\n",
              "      <th>Primaria incompleta</th>\n",
              "      <th>Secundaria completa</th>\n",
              "      <th>Secundaria incompleta</th>\n",
              "      <th>Sin nivel</th>\n",
              "      <th>Sup. Universitaria Completa</th>\n",
              "      <th>Sup. Universitaria Incompleta</th>\n",
              "      <th>Sup. no Universitaria Completa</th>\n",
              "      <th>Sup. no Universitaria Incompleta</th>\n",
              "    </tr>\n",
              "    <tr>\n",
              "      <th>sexo</th>\n",
              "      <th></th>\n",
              "      <th></th>\n",
              "      <th></th>\n",
              "      <th></th>\n",
              "      <th></th>\n",
              "      <th></th>\n",
              "      <th></th>\n",
              "      <th></th>\n",
              "      <th></th>\n",
              "      <th></th>\n",
              "      <th></th>\n",
              "      <th></th>\n",
              "    </tr>\n",
              "  </thead>\n",
              "  <tbody>\n",
              "    <tr>\n",
              "      <th>Hombre</th>\n",
              "      <td>0.001886</td>\n",
              "      <td>0.000532</td>\n",
              "      <td>0.012970</td>\n",
              "      <td>0.091391</td>\n",
              "      <td>0.080093</td>\n",
              "      <td>0.326656</td>\n",
              "      <td>0.182370</td>\n",
              "      <td>0.012971</td>\n",
              "      <td>0.076722</td>\n",
              "      <td>0.076725</td>\n",
              "      <td>0.085115</td>\n",
              "      <td>0.052570</td>\n",
              "    </tr>\n",
              "    <tr>\n",
              "      <th>Mujer</th>\n",
              "      <td>0.000967</td>\n",
              "      <td>0.000556</td>\n",
              "      <td>0.010932</td>\n",
              "      <td>0.098546</td>\n",
              "      <td>0.114761</td>\n",
              "      <td>0.261433</td>\n",
              "      <td>0.170903</td>\n",
              "      <td>0.051970</td>\n",
              "      <td>0.079070</td>\n",
              "      <td>0.069389</td>\n",
              "      <td>0.090287</td>\n",
              "      <td>0.051186</td>\n",
              "    </tr>\n",
              "  </tbody>\n",
              "</table>\n",
              "</div>"
            ],
            "text/plain": [
              "        Básica especial  ...  Sup. no Universitaria Incompleta\n",
              "sexo                     ...                                  \n",
              "Hombre         0.001886  ...                          0.052570\n",
              "Mujer          0.000967  ...                          0.051186\n",
              "\n",
              "[2 rows x 12 columns]"
            ]
          },
          "metadata": {
            "tags": []
          },
          "execution_count": 213
        }
      ]
    },
    {
      "cell_type": "code",
      "metadata": {
        "colab": {
          "base_uri": "https://localhost:8080/",
          "height": 391
        },
        "id": "kGhqxBR663V-",
        "outputId": "45a917eb-7ab9-41ae-c525-d432605ff7cf"
      },
      "source": [
        "muestra.plot(kind = 'barh',width = 0.8,figsize=(20,6))"
      ],
      "execution_count": 208,
      "outputs": [
        {
          "output_type": "execute_result",
          "data": {
            "text/plain": [
              "<matplotlib.axes._subplots.AxesSubplot at 0x7f4c342680d0>"
            ]
          },
          "metadata": {
            "tags": []
          },
          "execution_count": 208
        },
        {
          "output_type": "display_data",
          "data": {
            "image/png": "[encoded data removed]",
            "text/plain": [
              "<Figure size 1440x432 with 1 Axes>"
            ]
          },
          "metadata": {
            "tags": [],
            "needs_background": "light"
          }
        }
      ]
    },
    {
      "cell_type": "markdown",
      "metadata": {
        "id": "m8I9DurH-oJI"
      },
      "source": [
        "Estado civil"
      ]
    },
    {
      "cell_type": "code",
      "metadata": {
        "colab": {
          "base_uri": "https://localhost:8080/",
          "height": 266
        },
        "id": "Brg440fb9Ci9",
        "outputId": "2b578b6f-f083-43ac-d6c5-19f2843d8df4"
      },
      "source": [
        "muestra=pd.crosstab(df_EstaCivil.EstCivil,columns=df_EstaCivil.sexo,values=df_EstaCivil.fac500a,aggfunc=sum,normalize='index',colnames=[''])\n",
        "muestra"
      ],
      "execution_count": 216,
      "outputs": [
        {
          "output_type": "execute_result",
          "data": {
            "text/html": [
              "<div>\n",
              "<style scoped>\n",
              "    .dataframe tbody tr th:only-of-type {\n",
              "        vertical-align: middle;\n",
              "    }\n",
              "\n",
              "    .dataframe tbody tr th {\n",
              "        vertical-align: top;\n",
              "    }\n",
              "\n",
              "    .dataframe thead th {\n",
              "        text-align: right;\n",
              "    }\n",
              "</style>\n",
              "<table border=\"1\" class=\"dataframe\">\n",
              "  <thead>\n",
              "    <tr style=\"text-align: right;\">\n",
              "      <th></th>\n",
              "      <th>Hombre</th>\n",
              "      <th>Mujer</th>\n",
              "    </tr>\n",
              "    <tr>\n",
              "      <th>EstCivil</th>\n",
              "      <th></th>\n",
              "      <th></th>\n",
              "    </tr>\n",
              "  </thead>\n",
              "  <tbody>\n",
              "    <tr>\n",
              "      <th>Casado(a)</th>\n",
              "      <td>0.506074</td>\n",
              "      <td>0.493926</td>\n",
              "    </tr>\n",
              "    <tr>\n",
              "      <th>Conviviente</th>\n",
              "      <td>0.519269</td>\n",
              "      <td>0.480731</td>\n",
              "    </tr>\n",
              "    <tr>\n",
              "      <th>Divorciado(a)</th>\n",
              "      <td>0.329194</td>\n",
              "      <td>0.670806</td>\n",
              "    </tr>\n",
              "    <tr>\n",
              "      <th>Separado(a)</th>\n",
              "      <td>0.333969</td>\n",
              "      <td>0.666031</td>\n",
              "    </tr>\n",
              "    <tr>\n",
              "      <th>Soltero(a)</th>\n",
              "      <td>0.551479</td>\n",
              "      <td>0.448521</td>\n",
              "    </tr>\n",
              "    <tr>\n",
              "      <th>Viudo(a)</th>\n",
              "      <td>0.245569</td>\n",
              "      <td>0.754431</td>\n",
              "    </tr>\n",
              "  </tbody>\n",
              "</table>\n",
              "</div>"
            ],
            "text/plain": [
              "                 Hombre     Mujer\n",
              "EstCivil                         \n",
              "Casado(a)      0.506074  0.493926\n",
              "Conviviente    0.519269  0.480731\n",
              "Divorciado(a)  0.329194  0.670806\n",
              "Separado(a)    0.333969  0.666031\n",
              "Soltero(a)     0.551479  0.448521\n",
              "Viudo(a)       0.245569  0.754431"
            ]
          },
          "metadata": {
            "tags": []
          },
          "execution_count": 216
        }
      ]
    },
    {
      "cell_type": "code",
      "metadata": {
        "colab": {
          "base_uri": "https://localhost:8080/",
          "height": 282
        },
        "id": "K3fseGWz_PFc",
        "outputId": "5a466baf-9b9a-451e-da1e-fd4286203841"
      },
      "source": [
        "muestra.plot(kind = 'barh',stacked = 'True',width = 0.8)"
      ],
      "execution_count": 217,
      "outputs": [
        {
          "output_type": "execute_result",
          "data": {
            "text/plain": [
              "<matplotlib.axes._subplots.AxesSubplot at 0x7f4c341d7f50>"
            ]
          },
          "metadata": {
            "tags": []
          },
          "execution_count": 217
        },
        {
          "output_type": "display_data",
          "data": {
            "image/png": "[encoded data removed]",
            "text/plain": [
              "<Figure size 432x288 with 1 Axes>"
            ]
          },
          "metadata": {
            "tags": [],
            "needs_background": "light"
          }
        }
      ]
    },
    {
      "cell_type": "code",
      "metadata": {
        "colab": {
          "base_uri": "https://localhost:8080/",
          "height": 142
        },
        "id": "lJQ_v2ke_d4g",
        "outputId": "cc81c153-1cd1-40cd-91ec-35141325891c"
      },
      "source": [
        "muestra=pd.crosstab(df_EstaCivil.sexo,columns=[df_EstaCivil.EstCivil],values=df_EstaCivil.fac500a,aggfunc=sum,normalize='index',colnames=[''])\n",
        "muestra"
      ],
      "execution_count": 218,
      "outputs": [
        {
          "output_type": "execute_result",
          "data": {
            "text/html": [
              "<div>\n",
              "<style scoped>\n",
              "    .dataframe tbody tr th:only-of-type {\n",
              "        vertical-align: middle;\n",
              "    }\n",
              "\n",
              "    .dataframe tbody tr th {\n",
              "        vertical-align: top;\n",
              "    }\n",
              "\n",
              "    .dataframe thead th {\n",
              "        text-align: right;\n",
              "    }\n",
              "</style>\n",
              "<table border=\"1\" class=\"dataframe\">\n",
              "  <thead>\n",
              "    <tr style=\"text-align: right;\">\n",
              "      <th></th>\n",
              "      <th>Casado(a)</th>\n",
              "      <th>Conviviente</th>\n",
              "      <th>Divorciado(a)</th>\n",
              "      <th>Separado(a)</th>\n",
              "      <th>Soltero(a)</th>\n",
              "      <th>Viudo(a)</th>\n",
              "    </tr>\n",
              "    <tr>\n",
              "      <th>sexo</th>\n",
              "      <th></th>\n",
              "      <th></th>\n",
              "      <th></th>\n",
              "      <th></th>\n",
              "      <th></th>\n",
              "      <th></th>\n",
              "    </tr>\n",
              "  </thead>\n",
              "  <tbody>\n",
              "    <tr>\n",
              "      <th>Hombre</th>\n",
              "      <td>0.236250</td>\n",
              "      <td>0.271382</td>\n",
              "      <td>0.003600</td>\n",
              "      <td>0.066665</td>\n",
              "      <td>0.402941</td>\n",
              "      <td>0.019162</td>\n",
              "    </tr>\n",
              "    <tr>\n",
              "      <th>Mujer</th>\n",
              "      <td>0.228592</td>\n",
              "      <td>0.249077</td>\n",
              "      <td>0.007274</td>\n",
              "      <td>0.131803</td>\n",
              "      <td>0.324891</td>\n",
              "      <td>0.058363</td>\n",
              "    </tr>\n",
              "  </tbody>\n",
              "</table>\n",
              "</div>"
            ],
            "text/plain": [
              "        Casado(a)  Conviviente  ...  Soltero(a)  Viudo(a)\n",
              "sexo                            ...                      \n",
              "Hombre   0.236250     0.271382  ...    0.402941  0.019162\n",
              "Mujer    0.228592     0.249077  ...    0.324891  0.058363\n",
              "\n",
              "[2 rows x 6 columns]"
            ]
          },
          "metadata": {
            "tags": []
          },
          "execution_count": 218
        }
      ]
    },
    {
      "cell_type": "code",
      "metadata": {
        "colab": {
          "base_uri": "https://localhost:8080/",
          "height": 391
        },
        "id": "yQ7R8aFnAm0v",
        "outputId": "c90835df-282b-4752-d18c-8d29ebfd62c2"
      },
      "source": [
        "muestra.plot(kind = 'barh',width = 0.8,figsize=(20,6))"
      ],
      "execution_count": 219,
      "outputs": [
        {
          "output_type": "execute_result",
          "data": {
            "text/plain": [
              "<matplotlib.axes._subplots.AxesSubplot at 0x7f4c341c6ad0>"
            ]
          },
          "metadata": {
            "tags": []
          },
          "execution_count": 219
        },
        {
          "output_type": "display_data",
          "data": {
            "image/png": "[encoded data removed]",
            "text/plain": [
              "<Figure size 1440x432 with 1 Axes>"
            ]
          },
          "metadata": {
            "tags": [],
            "needs_background": "light"
          }
        }
      ]
    },
    {
      "cell_type": "code",
      "metadata": {
        "id": "w6KXUoulA6N3"
      },
      "source": [
        ""
      ],
      "execution_count": null,
      "outputs": []
    }
  ]
}